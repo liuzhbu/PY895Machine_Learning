{
 "cells": [
  {
   "cell_type": "markdown",
   "metadata": {},
   "source": [
    "# Notebook 4: Linear Regression (Ising)"
   ]
  },
  {
   "cell_type": "markdown",
   "metadata": {},
   "source": [
    "## Learning Goal\n",
    "Let us now apply linear regression to an example that is familiar from Statistical Mechanics: the Ising model. The goal of this notebook is to revisit the concepts of in-sample and out-of-sample errors, as well as $L2$- and $L1$-regularization, in an example that is more intuitive to physicists. \n",
    "\n",
    "## Overview\n",
    "Consider the 1D Ising model with nearest-neighbor interactions \n",
    "\n",
    "$$H[\\boldsymbol{S}]=-J\\sum_{j=1}^L S_{j}S_{j+1}$$\n",
    "\n",
    "on a chain of length $L$ with periodic boundary conditions and $S_j=\\pm 1$ Ising spin variables. In one dimension, this paradigmatic model has no phase transition at finite temperature. \n",
    "\n",
    "\n",
    "### Exercises (optional): ###  \n",
    "We invite the reader who is unfamiliar with the property of the Ising model to solve the following problems.\n",
    "<ul>\n",
    "<li> Compute the partition function of the Ising model in one dimension at inverse temperature $\\beta$ when $L\\rightarrow\\infty$ (thermodynamic limit):\n",
    "    $$Z=\\sum_S \\exp(-\\beta H[S]).$$\n",
    "Here the sum is carried over all $2^L$ spin configurations.\n",
    "\n",
    "A: The problem can be easily solved using transfer matrix, the M matrix for one pair of neighboring spins is\n",
    "$$M = \\left( \\begin{array}{cc} e^{\\beta J} & e^{-\\beta J} \\\\ e^{-\\beta J} & e^{\\beta J} \\end{array}\\right) $$, which captures all possible situations. Z is then just\n",
    "$$ Z = \\sum\\limits_\\mathbf{\\alpha} <\\alpha_1|M|\\alpha_2><\\alpha_2|M|\\alpha_3>\\cdot\\cdot\\cdot\\cdot\\cdot<\\alpha_{L-1}|M|\\alpha_L><\\alpha_L|M|\\alpha_1>\n",
    "$$\n",
    "where $<\\alpha_n|$ can be one of the two row vectors (1 0) and (0 1).\n",
    "\n",
    "Thus we get $$Z = tr(M^L) = \\lambda_1^L + \\lambda_2^L$$, where $\\lambda_1 and \\lambda_2$ are the two eigenvalues of M. \n",
    "It's easy to solve for the eigenvalues $$\\lambda_{1,2} = e^{\\beta J} \\underline{+} e^{-\\beta J}$$. \n",
    "In the thermodynamic limit $L\\rightarrow\\infty$ we get:\n",
    "$$ Z \\approx (e^{\\beta J}+e^{-\\beta J})^L$$\n",
    "\n",
    "\n",
    "<li> Compute the model's magnetization $M=\\langle\\sum_i S_i\\rangle$ in the same limit ($L\\rightarrow\\infty$). The expectation is taken with respect to the Boltzmann distribution:\n",
    "    $$p(S)=\\frac{\\exp(-\\beta H[S])}{Z}$$\n",
    "    \n",
    "A: From here on M means magnetization instead of transfer matrix in the text of solution.\n",
    "\n",
    "The magnetization can be calculated through calculating the expectation value of spin for one of the spins $E(S_i)$, and then M = $E(S_i)\\cdot L$. \n",
    "\n",
    "To calculate $E(S_i)$, we just need to calculate $P(S_i=1) - P(S_i=-1)$, and it's easy to see that\n",
    "$$\n",
    "E(S_i) = P(S_i=1) - P(S_i=-1) = \\frac{1}{Z}\\sum\\limits_\\mathbf{\\alpha} <\\alpha_1|M|\\alpha_2>\\cdot\\cdot\\cdot|\\alpha_i><\\alpha_i|\\tau_i\\cdot\\cdot\\cdot<\\alpha_{L-1}|M|\\alpha_L><\\alpha_L|M|\\alpha_1>\n",
    "$$\n",
    "where $$\\tau_i = \\left( \\begin{array}{cc} 1 & 0 \\\\ 0 & -1 \\end{array}\\right)$$\n",
    "Thus we have solved for the magnetization M,\n",
    "$$ M = \\frac{L}{Z}\\cdot tr(\\tau_i\\cdot M^L)$$\n",
    "Then this trace can be easily solved for by diagonalizing M first.\n",
    "Firstly it can be shown that the two eigenvectors are $$ \\mathbf{v_1} = \\left( \\begin{array}{c} \\frac{1}{\\sqrt{2}} \\\\ \\frac{1}{\\sqrt{2}} \\end{array}\\right) \\ and\\ \\mathbf{v_2} = \\left( \\begin{array}{c} \\frac{1}{\\sqrt{2}} \\\\ -\\frac{1}{\\sqrt{2}} \\end{array}\\right)$$ corresponding to eigenvalue $\\lambda_1 \\ and\\ \\lambda_2$ as calculated above.\n",
    "Thus the magnetization is \n",
    "$$ M = \\frac{L}{Z}\\cdot tr(\\frac{1}{2}\\cdot\\tau_i\\cdot\\left( \\begin{array}{cc} 1 & 1 \\\\ 1 & -1 \\end{array}\\right)\\cdot\\left( \\begin{array}{cc} \\lambda_1 & 0 \\\\ 0 & \\lambda_2 \\end{array}\\right)^L\\cdot\\left( \\begin{array}{cc} 1 & 1 \\\\ 1 & -1 \\end{array}\\right))\n",
    "$$\n",
    "Solving for the trace we get: $$M = 0$$\n",
    "\n",
    "\n",
    "<li> How does $M$ behave as a function of the temperature $T=\\beta^{-1}$?\n",
    "\n",
    "A: The magnetization $M$ is not a function of temperature T (T$\\neq$0) in the thermodynamic limit $L\\rightarrow\\infty$, because the entropy always wins over energy, and the spin chain will remain in the state of maximum entropy (half spin up and half spin down) at finite temperature. When T = 0 however, energy will dominate and the spin chain will be in the ferromagnetic state, thus $M$ = L or -L, depending on its initialization.\n",
    "</ul>\n",
    "\n",
    "For a more detailed introduction we refer the reader to consult one of the many textbooks on the subject (see for instance <a href=\"https://www.amazon.com/Lectures-Transitions-Renormalization-Frontiers-Physics/dp/0201554097\">Goldenfeld</a>, <a href=\"https://www.google.com/search?q=lubensky+condensed+matter+physics&rlz=1C5CHFA_enCA776CA776&oq=lubensky+&aqs=chrome.2.69i57j0l5.3047j1j7&sourceid=chrome&ie=UTF-8\">Lubensky</a>, <a href=\"https://physics.anu.edu.au/theophys/baxter_book.php\">Baxter </a>, etc.).\n",
    "\n",
    "### Learning the Ising model ###\n",
    "\n",
    "Suppose your boss set $J=1$, drew a large number of spin configurations, and computed their Ising energies. Then, without telling you about the above Hamiltonian, he or she handed you a data set of $i=1\\ldots n$ points of the form $\\{(H[\\boldsymbol{S}^i],\\boldsymbol{S}^i)\\}$. Your task is to learn the Hamiltonian using Linear regression techniques. "
   ]
  },
  {
   "cell_type": "code",
   "execution_count": 79,
   "metadata": {},
   "outputs": [
    {
     "name": "stdout",
     "output_type": "stream",
     "text": [
      "[[ 1  1 -1 ... -1 -1 -1]\n",
      " [-1 -1  1 ... -1 -1 -1]\n",
      " [-1  1  1 ... -1 -1  1]\n",
      " ...\n",
      " [-1  1 -1 ... -1 -1  1]\n",
      " [ 1 -1 -1 ...  1 -1  1]\n",
      " [-1 -1  1 ... -1  1 -1]]\n",
      "[  4. -12.   4. ...   0.  -8.   8.]\n"
     ]
    },
    {
     "data": {
      "text/plain": [
       "10000"
      ]
     },
     "execution_count": 79,
     "metadata": {},
     "output_type": "execute_result"
    }
   ],
   "source": [
    "import numpy as np\n",
    "import scipy.sparse as sp\n",
    "np.random.seed(12)\n",
    "\n",
    "\n",
    "import warnings\n",
    "# Comment this to turn on warnings\n",
    "warnings.filterwarnings('ignore')\n",
    "\n",
    "### define Ising model aprams\n",
    "# system size\n",
    "L=40\n",
    "\n",
    "# create 10000 random Ising states\n",
    "states=np.random.choice([-1, 1], size=(10000,L))\n",
    "\n",
    "def ising_energies(states):\n",
    "    \"\"\"\n",
    "    This function calculates the energies of the states in the nn Ising Hamiltonian\n",
    "    \"\"\"\n",
    "    L = states.shape[1]\n",
    "    J = np.zeros((L, L),)\n",
    "    for i in range(L): \n",
    "        J[i,(i+1)%L]=-1.0 # interaction between nearest-neighbors\n",
    "        \n",
    "    # compute energies\n",
    "    E = np.einsum('...i,ij,...j->...',states,J,states)\n",
    "\n",
    "    return E\n",
    "# calculate Ising energies\n",
    "energies=ising_energies(states)\n",
    "print(states)\n",
    "print(energies)\n",
    "len(energies)"
   ]
  },
  {
   "cell_type": "markdown",
   "metadata": {},
   "source": [
    "## Recasting the problem as a Linear Regression\n",
    "First of all, we have to decide on a model class (possible Hamiltonians) we use to fit the data. In the absence of any prior knowledge, one sensible choice is the all-to-all Ising model\n",
    "\n",
    "$$\n",
    "H_\\mathrm{model}[\\boldsymbol{S}^i] = - \\sum_{j=1}^L \\sum_{k=1}^L J_{j,k}S_{j}^iS_{k}^i.\n",
    "$$\n",
    "Notice that this model is uniquely defined by the non-local coupling strengths $J_{jk}$ which we want to learn. Importantly, this model is linear in ${\\mathbf J}$ which makes it possible to use linear regression.\n",
    "\n",
    "To apply linear regression, we would like to recast this model in the form\n",
    "$$\n",
    "H_\\mathrm{model}^i \\equiv \\mathbf{X}^i \\cdot \\mathbf{J},\n",
    "$$\n",
    "\n",
    "where the vectors $\\mathbf{X}^i$ represent all two-body interactions $\\{S_{j}^iS_{k}^i \\}_{j,k=1}^L$, and the index $i$ runs over the samples in the data set. To make the analogy complete, we can also represent the dot product by a single index $p = \\{j,k\\}$, i.e. $\\mathbf{X}^i \\cdot \\mathbf{J}=X^i_pJ_p$. Note that the regression model does not include the minus sign, so we expect to learn negative $J$'s."
   ]
  },
  {
   "cell_type": "code",
   "execution_count": 80,
   "metadata": {},
   "outputs": [
    {
     "name": "stdout",
     "output_type": "stream",
     "text": [
      "[array([[ 1,  1, -1, ..., -1, -1, -1],\n",
      "       [-1, -1,  1, ..., -1, -1, -1],\n",
      "       [-1,  1,  1, ..., -1, -1,  1],\n",
      "       ...,\n",
      "       [-1,  1, -1, ..., -1, -1,  1],\n",
      "       [ 1, -1, -1, ...,  1, -1,  1],\n",
      "       [-1, -1,  1, ..., -1,  1, -1]]), array([  4., -12.,   4., ...,   0.,  -8.,   8.])]\n"
     ]
    }
   ],
   "source": [
    "# reshape Ising states into RL samples: S_iS_j --> X_p\n",
    "#np.einsum is very useful\n",
    "# states=np.einsum('...i,...j->...ij', states, states)\n",
    "\n",
    "# shape=states.shape\n",
    "# states=states.reshape((shape[0],shape[1]*shape[2]))\n",
    "# build final data set\n",
    "Data=[states,energies]\n",
    "# print(states)\n",
    "print(Data)"
   ]
  },
  {
   "cell_type": "code",
   "execution_count": 81,
   "metadata": {},
   "outputs": [
    {
     "data": {
      "text/plain": [
       "40"
      ]
     },
     "execution_count": 81,
     "metadata": {},
     "output_type": "execute_result"
    }
   ],
   "source": [
    "len(Data[0][0])"
   ]
  },
  {
   "cell_type": "markdown",
   "metadata": {},
   "source": [
    "## Numerical Experiments\n",
    "\n",
    "As we already mentioned a few times in the review, learning is not fitting: the subtle difference is that once we fit the data to obtain a candidate model, we expect it to generalize to unseen data not used for the fitting procedure. For this reason, we begin by specifying a training and test data sets"
   ]
  },
  {
   "cell_type": "code",
   "execution_count": 97,
   "metadata": {},
   "outputs": [],
   "source": [
    "# define number of samples\n",
    "n_samples=50\n",
    "# define train and test data sets\n",
    "X_train=Data[0][:n_samples]\n",
    "Y_train=Data[1][:n_samples] #+ np.random.normal(0,4.0,size=X_train.shape[0])\n",
    "X_test=Data[0][n_samples:3*n_samples//2]\n",
    "Y_test=Data[1][n_samples:3*n_samples//2] #+ np.random.normal(0,4.0,size=X_test.shape[0])"
   ]
  },
  {
   "cell_type": "markdown",
   "metadata": {},
   "source": [
    "# Evaluating the performance:  coefficient of determination $R^2$"
   ]
  },
  {
   "cell_type": "markdown",
   "metadata": {},
   "source": [
    "In what follows the model performance (in-sample and out-of-sample) is evaluated using the so-called coefficient of determination, which is given by:\n",
    "\\begin{align}\n",
    "R^2 &= \\left(1-\\frac{u}{v}\\right),\\\\\n",
    "u&=(y_{pred}-y_{true})^2\\\\\n",
    "v&=(y_{true}-\\langle y_{true}\\rangle)^2\n",
    "\\end{align}"
   ]
  },
  {
   "cell_type": "markdown",
   "metadata": {},
   "source": [
    "The best possible score is 1.0 but it can also be negative. A constant model that always predicts the expected value of $y$, $\\langle y_{true}\\rangle$, disregarding the input features, would get a $R^2$ score of 0."
   ]
  },
  {
   "cell_type": "markdown",
   "metadata": {},
   "source": [
    "## Applying OLS, Ridge regression and LASSO:"
   ]
  },
  {
   "cell_type": "code",
   "execution_count": 98,
   "metadata": {
    "scrolled": false
   },
   "outputs": [],
   "source": [
    "from sklearn import linear_model\n",
    "import matplotlib.pyplot as plt\n",
    "from mpl_toolkits.axes_grid1 import make_axes_locatable\n",
    "import seaborn\n",
    "%matplotlib inline\n",
    "\n",
    "# set up Lasso and Ridge Regression models\n",
    "leastsq=linear_model.LinearRegression()\n",
    "ridge=linear_model.Ridge()\n",
    "lasso = linear_model.Lasso()\n",
    "\n",
    "# define error lists\n",
    "train_errors_leastsq = []\n",
    "test_errors_leastsq = []\n",
    "\n",
    "train_errors_ridge = []\n",
    "test_errors_ridge = []\n",
    "\n",
    "train_errors_lasso = []\n",
    "test_errors_lasso = []\n",
    "\n",
    "# set regularisation strength values\n",
    "lmbdas = np.logspace(-4, 5, 10)\n",
    "# lmbdas=[0.1]\n",
    "\n",
    "#Initialize coeffficients for ridge regression and Lasso\n",
    "coefs_leastsq = []\n",
    "coefs_ridge = []\n",
    "coefs_lasso=[]\n",
    "\n",
    "for lmbda in lmbdas:\n",
    "    \n",
    "    ### ordinary least squares\n",
    "    leastsq.fit(X_train, Y_train) # fit model \n",
    "    coefs_leastsq.append(leastsq.coef_) # store weights\n",
    "    # use the coefficient of determination R^2 as the performance of prediction.\n",
    "    train_errors_leastsq.append(leastsq.score(X_train, Y_train))\n",
    "    test_errors_leastsq.append(leastsq.score(X_test,Y_test))\n",
    "    \n",
    "    ### apply RIDGE regression\n",
    "    ridge.set_params(alpha=lmbda) # set regularisation parameter\n",
    "    ridge.fit(X_train, Y_train) # fit model \n",
    "    coefs_ridge.append(ridge.coef_) # store weights\n",
    "    # use the coefficient of determination R^2 as the performance of prediction.\n",
    "    train_errors_ridge.append(ridge.score(X_train, Y_train))\n",
    "    test_errors_ridge.append(ridge.score(X_test,Y_test))\n",
    "    \n",
    "    ### apply LASSO regression\n",
    "    lasso.set_params(alpha=lmbda) # set regularisation parameter\n",
    "    lasso.fit(X_train, Y_train) # fit model\n",
    "    coefs_lasso.append(lasso.coef_) # store weights\n",
    "    # use the coefficient of determination R^2 as the performance of prediction.\n",
    "    train_errors_lasso.append(lasso.score(X_train, Y_train))\n",
    "    test_errors_lasso.append(lasso.score(X_test,Y_test))\n",
    "\n",
    "    ### plot Ising interaction J\n",
    "#     J_leastsq=np.array(leastsq.coef_)#.reshape((L,L))\n",
    "#     J_ridge=np.array(ridge.coef_)#.reshape((L,L))\n",
    "#     J_lasso=np.array(lasso.coef_)#.reshape((L,L))\n",
    "    \n",
    "#     cmap_args=dict(vmin=-1., vmax=1., cmap='seismic')\n",
    "\n",
    "#     fig, axarr = plt.subplots(nrows=1, ncols=3)\n",
    "    \n",
    "#     axarr[0].imshow(J_leastsq,**cmap_args)\n",
    "#     axarr[0].set_title('OLS \\n Train$=%.3f$, Test$=%.3f$'%(train_errors_leastsq[-1], test_errors_leastsq[-1]),fontsize=16)\n",
    "#     axarr[0].tick_params(labelsize=16)\n",
    "    \n",
    "#     axarr[1].imshow(J_ridge,**cmap_args)\n",
    "#     axarr[1].set_title('Ridge $\\lambda=%.4f$\\n Train$=%.3f$, Test$=%.3f$' %(lmbda,train_errors_ridge[-1],test_errors_ridge[-1]),fontsize=16)\n",
    "#     axarr[1].tick_params(labelsize=16)\n",
    "    \n",
    "#     im=axarr[2].imshow(J_lasso,**cmap_args)\n",
    "#     axarr[2].set_title('LASSO $\\lambda=%.4f$\\n Train$=%.3f$, Test$=%.3f$' %(lmbda,train_errors_lasso[-1],test_errors_lasso[-1]),fontsize=16)\n",
    "#     axarr[2].tick_params(labelsize=16)\n",
    "    \n",
    "#     divider = make_axes_locatable(axarr[2])\n",
    "#     cax = divider.append_axes(\"right\", size=\"5%\", pad=0.05, add_to_figure=True)\n",
    "#     cbar=fig.colorbar(im, cax=cax)\n",
    "    \n",
    "#     cbar.ax.set_yticklabels(np.arange(-1.0, 1.0+0.25, 0.25),fontsize=14)\n",
    "#     cbar.set_label('$J_{i,j}$',labelpad=15, y=0.5,fontsize=20,rotation=0)\n",
    "    \n",
    "#     fig.subplots_adjust(right=2.0)\n",
    "    \n",
    "#     plt.show()"
   ]
  },
  {
   "cell_type": "markdown",
   "metadata": {},
   "source": [
    "To quantify learning, we also plot the in-sample and out-of-sample errors"
   ]
  },
  {
   "cell_type": "code",
   "execution_count": 104,
   "metadata": {},
   "outputs": [
    {
     "data": {
      "image/png": "[encoded data removed]",
      "text/plain": [
       "<Figure size 720x432 with 1 Axes>"
      ]
     },
     "metadata": {
      "needs_background": "light"
     },
     "output_type": "display_data"
    },
    {
     "name": "stdout",
     "output_type": "stream",
     "text": [
      "[-3.529452196918946, -3.529452196918946, -3.529452196918946, -3.529452196918946, -3.529452196918946, -3.529452196918946, -3.529452196918946, -3.529452196918946, -3.529452196918946, -3.529452196918946]\n"
     ]
    }
   ],
   "source": [
    "# Plot our performance on both the training and test data\n",
    "plt.semilogx(lmbdas, train_errors_leastsq, 'b',label='Train (OLS)')\n",
    "plt.semilogx(lmbdas, test_errors_leastsq,'--b',label='Test (OLS)')\n",
    "plt.semilogx(lmbdas, train_errors_ridge,'r',label='Train (Ridge)',linewidth=1)\n",
    "plt.semilogx(lmbdas, test_errors_ridge,'--r',label='Test (Ridge)',linewidth=1)\n",
    "plt.semilogx(lmbdas, train_errors_lasso, 'g',label='Train (LASSO)')\n",
    "plt.semilogx(lmbdas, test_errors_lasso, '--g',label='Test (LASSO)')\n",
    "\n",
    "fig = plt.gcf()\n",
    "fig.set_size_inches(10.0, 6.0)\n",
    "\n",
    "#plt.vlines(alpha_optim, plt.ylim()[0], np.max(test_errors), color='k',\n",
    "#           linewidth=3, label='Optimum on test')\n",
    "plt.legend(loc='lower left',fontsize=16)\n",
    "plt.ylim([-0.1, 1.1])\n",
    "plt.xlim([min(lmbdas), max(lmbdas)])\n",
    "plt.xlabel(r'$\\lambda$',fontsize=16)\n",
    "plt.ylabel('Performance',fontsize=16)\n",
    "plt.tick_params(labelsize=16)\n",
    "plt.show()\n",
    "print(test_errors_leastsq)"
   ]
  },
  {
   "cell_type": "markdown",
   "metadata": {},
   "source": [
    "## Understanding the results\n",
    "\n",
    "Let us make a few remarks: \n",
    "\n",
    "(i) the inverse (see [Scikit documentation](http://scikit-learn.org/stable/modules/classes.html#module-sklearn.linear_model)) regularization parameter $\\lambda$ affects the Ridge and LASSO regressions at scales, separated by a few orders of magnitude. Notice that this is different for the data considered in Notebook 3 __Section VI: Linear Regression (Diabetes)__. Therefore, it is considered good practice to always check the performance for the given model and data with $\\lambda$ over multiple decades. \n",
    "\n",
    "(ii) at $\\lambda\\to 0$ and $\\lambda\\to\\infty$, all three models overfit the data, as can be seen from the deviation of the test errors from unity (dashed lines), while the training curves stay at unity. \n",
    "\n",
    "(iii) While the OLS and Ridge regression test curves are monotonic, the LASSO test curve is not -- suggesting the optimal LASSO regularization parameter is $\\lambda\\approx 10^{-2}$. At this sweet spot, the Ising interaction weights ${\\bf J}$ contain only nearest-neighbor terms (as did the model the data was generated from).\n",
    "\n",
    "__Gauge degrees of freedom__: recall that the uniform nearest-neighbor interactions strength $J_{j,k}=J$ which we used to generate the data was set to unity, $J=1$. Moreover, $J_{j,k}$ was NOT defined to be symmetric (we only used the $J_{j,j+1}$ but never the $J_{j,j-1}$ elements). The colorbar on the matrix elements plot above suggest that the OLS and Ridge regression learn uniform symmetric weights $J=-0.5$. There is no mystery since this amounts to taking into account both the $J_{j,j+1}$ and the $J_{j,j-1}$ terms, and the weights are distributed symmetrically between them. LASSO, on the other hand, can break this symmetry (see matrix elements plots for $\\lambda=0.001$ and $\\lambda=0.01$). Thus, we see how different regularization schemes can lead to learning equivalent models but in different gauges. Any information we have about the symmetry of the unknown model that generated the data has to be reflected in the definition of the model and the regularization chosen."
   ]
  },
  {
   "cell_type": "markdown",
   "metadata": {},
   "source": [
    "### Exercises: ###  \n",
    "<ul>\n",
    "<li> Plot a histogram of the distribution of the components of ${\\bf J}$ at different values of the number of training sample (one can go up to $2\\times 10^4$). What happens with the sampling noise as the number of samples is increased/decreased for the three types of regression considered? How do the matrix elements plots above change?\n",
    "   \n",
    "A: The histograms are shown below. As the number of training data increases, the sampling noise is suppressed. And the matrix elements for ridge and lasso becomes tridiagonal, which is the true model. The matrix elements for least square fitting is more over-fitted, but the tridiagonal elements is closer to the true value when the number of training data increases. When the number of training data is smaller than the number of features, it cannot effectively learn.\n",
    "\n",
    "<li> Try to learn the underlying model of the data, assuming it lies within the class of one-body Hamiltonians, i.e. make the ansatz \n",
    "$$H_\\mathrm{model}[\\boldsymbol{S}^i] = \\sum_{j=1}^L h_jS_{j}$$\n",
    "for some unknown field $h_j$. How well can you explain the data? How well does the model generalize? Study these problems by playing with the size of the data set. Try out all three regression models and determine which one does the best. What is the relationship to Mean-Field Theory of this model?\n",
    "    \n",
    "A: The training model in this case is very different from the true model and cannot capture the actual features of the true model at all. Thus it's not so surprising to find that the more data we use for training, the worse the fitting performance. In all cases it generalizes very poorly. All three regression models worked poorly. It's a meanfield model is ${h_j}$ is fixed for all j.\n",
    "</ul>"
   ]
  },
  {
   "cell_type": "code",
   "execution_count": 73,
   "metadata": {},
   "outputs": [
    {
     "data": {
      "text/plain": [
       "1600"
      ]
     },
     "execution_count": 73,
     "metadata": {},
     "output_type": "execute_result"
    }
   ],
   "source": [
    "type(J_leastsq[0])\n",
    "J_leastsq=np.array(leastsq.coef_)\n",
    "J_ridge=np.array(ridge.coef_)\n",
    "J_lasso=np.array(lasso.coef_)\n",
    "len(J_leastsq)"
   ]
  },
  {
   "cell_type": "code",
   "execution_count": 65,
   "metadata": {},
   "outputs": [],
   "source": [
    "# f4.hist(eigvec_100_together_combine2, bins=40,label='random\\nmatrix',linewidth=8, range=[-0.4, 0.4])\n",
    "def hist_of_J(num_of_trainingdata):\n",
    "    J_hist=plt.figure(figsize=(13,4))\n",
    "    J_hist.suptitle('n={0:}, \\u03BB = 0.1'.format(num_of_trainingdata),fontsize=12)\n",
    "\n",
    "    leastsq = J_hist.add_subplot(1,3,1)\n",
    "    leastsq.hist(J_leastsq,bins=20,range=[-1.2,1])\n",
    "    leastsq.tick_params(labelsize=12)\n",
    "    leastsq.set_title('least square', fontsize=12)\n",
    "\n",
    "    ridge = J_hist.add_subplot(1,3,2)\n",
    "    ridge.hist(J_ridge,bins=20,range=[-1.2,1])\n",
    "    ridge.tick_params(labelsize=12)\n",
    "    ridge.set_title('ridge', fontsize=12)\n",
    "\n",
    "    lasso = J_hist.add_subplot(1,3,3)\n",
    "    lasso.hist(J_lasso,bins=20,range=[-1.2,1])\n",
    "    lasso.tick_params(labelsize=12)\n",
    "    lasso.set_title('lasso', fontsize=12)"
   ]
  },
  {
   "cell_type": "code",
   "execution_count": 70,
   "metadata": {},
   "outputs": [
    {
     "data": {
      "image/png": "[encoded data removed]",
      "text/plain": [
       "<Figure size 936x288 with 3 Axes>"
      ]
     },
     "metadata": {
      "needs_background": "light"
     },
     "output_type": "display_data"
    }
   ],
   "source": [
    "hist_of_J(400)"
   ]
  },
  {
   "cell_type": "code",
   "execution_count": 66,
   "metadata": {},
   "outputs": [
    {
     "data": {
      "image/png": "[encoded data removed]",
      "text/plain": [
       "<Figure size 936x288 with 3 Axes>"
      ]
     },
     "metadata": {
      "needs_background": "light"
     },
     "output_type": "display_data"
    }
   ],
   "source": [
    "hist_of_J(4000)"
   ]
  },
  {
   "cell_type": "code",
   "execution_count": 74,
   "metadata": {},
   "outputs": [
    {
     "data": {
      "image/png": "[encoded data removed]",
      "text/plain": [
       "<Figure size 936x288 with 3 Axes>"
      ]
     },
     "metadata": {
      "needs_background": "light"
     },
     "output_type": "display_data"
    }
   ],
   "source": [
    "hist_of_J(8000)"
   ]
  },
  {
   "cell_type": "code",
   "execution_count": null,
   "metadata": {},
   "outputs": [],
   "source": []
  }
 ],
 "metadata": {
  "anaconda-cloud": {},
  "kernelspec": {
   "display_name": "Python 3",
   "language": "python",
   "name": "python3"
  },
  "language_info": {
   "codemirror_mode": {
    "name": "ipython",
    "version": 3
   },
   "file_extension": ".py",
   "mimetype": "text/x-python",
   "name": "python",
   "nbconvert_exporter": "python",
   "pygments_lexer": "ipython3",
   "version": "3.7.0"
  }
 },
 "nbformat": 4,
 "nbformat_minor": 1
}
